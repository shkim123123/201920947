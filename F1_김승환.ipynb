{
  "nbformat": 4,
  "nbformat_minor": 0,
  "metadata": {
    "colab": {
      "provenance": [],
      "authorship_tag": "ABX9TyOwtfkhciXSCn5MC4fkECE8",
      "include_colab_link": true
    },
    "kernelspec": {
      "name": "python3",
      "display_name": "Python 3"
    },
    "language_info": {
      "name": "python"
    }
  },
  "cells": [
    {
      "cell_type": "markdown",
      "metadata": {
        "id": "view-in-github",
        "colab_type": "text"
      },
      "source": [
        "<a href=\"https://colab.research.google.com/github/shkim123123/201920947/blob/main/F1_%EA%B9%80%EC%8A%B9%ED%99%98.ipynb\" target=\"_parent\"><img src=\"https://colab.research.google.com/assets/colab-badge.svg\" alt=\"Open In Colab\"/></a>"
      ]
    },
    {
      "cell_type": "code",
      "execution_count": 27,
      "metadata": {
        "id": "iQ-jJjOlMU7j"
      },
      "outputs": [],
      "source": [
        "import tensorflow as tf\n",
        "from tensorflow import keras\n",
        "from sklearn.model_selection import train_test_split\n",
        "import matplotlib.pyplot as plt\n",
        "import numpy as np"
      ]
    },
    {
      "cell_type": "code",
      "source": [
        "# 실행마다 동일한 결과를 얻기 위해 케라스에 랜덤 시드를 사용하고 텐서플로 연산을 결정적으로 만듭니다.\n",
        "tf.keras.utils.set_random_seed(42)\n",
        "tf.config.experimental.enable_op_determinism()"
      ],
      "metadata": {
        "id": "nGK_OMW7MxFR"
      },
      "execution_count": 28,
      "outputs": []
    },
    {
      "cell_type": "code",
      "source": [
        "# Fashion MNIST 데이터셋을 로드하고 전처리합니다.\n",
        "(train_input, train_target), (test_input, test_target) = keras.datasets.fashion_mnist.load_data()\n"
      ],
      "metadata": {
        "id": "hrng2g7PMz4b",
        "colab": {
          "base_uri": "https://localhost:8080/"
        },
        "outputId": "4e79bded-c123-45e3-b25b-71a64b38471a"
      },
      "execution_count": 29,
      "outputs": [
        {
          "output_type": "stream",
          "name": "stdout",
          "text": [
            "Downloading data from https://storage.googleapis.com/tensorflow/tf-keras-datasets/train-labels-idx1-ubyte.gz\n",
            "29515/29515 [==============================] - 0s 0us/step\n",
            "Downloading data from https://storage.googleapis.com/tensorflow/tf-keras-datasets/train-images-idx3-ubyte.gz\n",
            "26421880/26421880 [==============================] - 0s 0us/step\n",
            "Downloading data from https://storage.googleapis.com/tensorflow/tf-keras-datasets/t10k-labels-idx1-ubyte.gz\n",
            "5148/5148 [==============================] - 0s 0us/step\n",
            "Downloading data from https://storage.googleapis.com/tensorflow/tf-keras-datasets/t10k-images-idx3-ubyte.gz\n",
            "4422102/4422102 [==============================] - 0s 0us/step\n"
          ]
        }
      ]
    },
    {
      "cell_type": "code",
      "source": [
        "train_scaled = train_input.reshape(-1, 28, 28, 1) / 255.0\n",
        "test_scaled = test_input.reshape(-1, 28, 28, 1) / 255.0\n"
      ],
      "metadata": {
        "id": "HyKnzCv3M71h"
      },
      "execution_count": 30,
      "outputs": []
    },
    {
      "cell_type": "code",
      "source": [
        "train_scaled, val_scaled, train_target, val_target = train_test_split(\n",
        "    train_scaled, train_target, test_size=0.2, random_state=42)"
      ],
      "metadata": {
        "id": "8AgPSK0sM78F"
      },
      "execution_count": 31,
      "outputs": []
    },
    {
      "cell_type": "code",
      "source": [
        "# 모델을 Sequential 방식으로 정의합니다.\n",
        "model = keras.Sequential()"
      ],
      "metadata": {
        "id": "r3Ev_D3cNLsn"
      },
      "execution_count": 32,
      "outputs": []
    },
    {
      "cell_type": "code",
      "source": [
        "# 합성곱 층과 풀링 층을 추가합니다. (1개의 합성곱층만 사용)\n",
        "model.add(keras.layers.Conv2D(32, kernel_size=3, activation='relu', padding='same', input_shape=(28,28,1)))\n",
        "model.add(keras.layers.MaxPooling2D(2))"
      ],
      "metadata": {
        "id": "FIBzKI5PNLuu"
      },
      "execution_count": 33,
      "outputs": []
    },
    {
      "cell_type": "code",
      "source": [
        "# 완전 연결 층을 추가합니다. (2개의 은닉층 추가)\n",
        "model.add(keras.layers.Flatten())\n",
        "model.add(keras.layers.Dense(100, activation='relu'))\n",
        "model.add(keras.layers.Dense(50, activation='relu'))  # 추가된 은닉층\n",
        "model.add(keras.layers.Dropout(0.4))\n",
        "model.add(keras.layers.Dense(10, activation='softmax'))"
      ],
      "metadata": {
        "id": "hiXP_PAJNLw2"
      },
      "execution_count": 34,
      "outputs": []
    },
    {
      "cell_type": "code",
      "source": [
        "# 모델 구조를 요약해서 출력합니다.\n",
        "model.summary()\n"
      ],
      "metadata": {
        "colab": {
          "base_uri": "https://localhost:8080/"
        },
        "id": "9CNydxVNNTWr",
        "outputId": "9f3dd23c-5b5a-417c-f0e3-4c2252164767"
      },
      "execution_count": 35,
      "outputs": [
        {
          "output_type": "stream",
          "name": "stdout",
          "text": [
            "Model: \"sequential_1\"\n",
            "_________________________________________________________________\n",
            " Layer (type)                Output Shape              Param #   \n",
            "=================================================================\n",
            " conv2d_1 (Conv2D)           (None, 28, 28, 32)        320       \n",
            "                                                                 \n",
            " max_pooling2d_1 (MaxPoolin  (None, 14, 14, 32)        0         \n",
            " g2D)                                                            \n",
            "                                                                 \n",
            " flatten_1 (Flatten)         (None, 6272)              0         \n",
            "                                                                 \n",
            " dense_3 (Dense)             (None, 100)               627300    \n",
            "                                                                 \n",
            " dense_4 (Dense)             (None, 50)                5050      \n",
            "                                                                 \n",
            " dropout_2 (Dropout)         (None, 50)                0         \n",
            "                                                                 \n",
            " dense_5 (Dense)             (None, 10)                510       \n",
            "                                                                 \n",
            "=================================================================\n",
            "Total params: 633180 (2.42 MB)\n",
            "Trainable params: 633180 (2.42 MB)\n",
            "Non-trainable params: 0 (0.00 Byte)\n",
            "_________________________________________________________________\n"
          ]
        }
      ]
    },
    {
      "cell_type": "code",
      "source": [
        "# 모델을 컴파일합니다.\n",
        "model.compile(optimizer='adam', loss='sparse_categorical_crossentropy', metrics=['accuracy'])\n"
      ],
      "metadata": {
        "id": "HvcglLJiNUyy"
      },
      "execution_count": 36,
      "outputs": []
    },
    {
      "cell_type": "code",
      "source": [
        "# 모델 훈련 시, 최상의 성능을 보이는 모델을 저장하기 위한 콜백을 설정합니다.\n",
        "checkpoint_cb = keras.callbacks.ModelCheckpoint('best-cnn-model.h5', save_best_only=True)\n",
        "early_stopping_cb = keras.callbacks.EarlyStopping(patience=2, restore_best_weights=True)\n"
      ],
      "metadata": {
        "id": "LE7Tb4DpOomh"
      },
      "execution_count": 37,
      "outputs": []
    },
    {
      "cell_type": "code",
      "source": [
        "history = model.fit(train_scaled, train_target, epochs=20, validation_data=(val_scaled, val_target), callbacks=[checkpoint_cb, early_stopping_cb])\n"
      ],
      "metadata": {
        "colab": {
          "base_uri": "https://localhost:8080/"
        },
        "id": "T2C8aBOVQ7G7",
        "outputId": "59c51a6f-ee9f-41f3-fd73-ad219ef929a4"
      },
      "execution_count": 38,
      "outputs": [
        {
          "output_type": "stream",
          "name": "stdout",
          "text": [
            "Epoch 1/20\n",
            "1500/1500 [==============================] - 49s 32ms/step - loss: 0.5303 - accuracy: 0.8181 - val_loss: 0.3165 - val_accuracy: 0.8843\n",
            "Epoch 2/20\n",
            "   4/1500 [..............................] - ETA: 35s - loss: 0.4396 - accuracy: 0.8281"
          ]
        },
        {
          "output_type": "stream",
          "name": "stderr",
          "text": [
            "/usr/local/lib/python3.10/dist-packages/keras/src/engine/training.py:3103: UserWarning: You are saving your model as an HDF5 file via `model.save()`. This file format is considered legacy. We recommend using instead the native Keras format, e.g. `model.save('my_model.keras')`.\n",
            "  saving_api.save_model(\n"
          ]
        },
        {
          "output_type": "stream",
          "name": "stdout",
          "text": [
            "1500/1500 [==============================] - 57s 38ms/step - loss: 0.3323 - accuracy: 0.8856 - val_loss: 0.2797 - val_accuracy: 0.8963\n",
            "Epoch 3/20\n",
            "1500/1500 [==============================] - 45s 30ms/step - loss: 0.2816 - accuracy: 0.9013 - val_loss: 0.2665 - val_accuracy: 0.9043\n",
            "Epoch 4/20\n",
            "1500/1500 [==============================] - 48s 32ms/step - loss: 0.2512 - accuracy: 0.9116 - val_loss: 0.2653 - val_accuracy: 0.9056\n",
            "Epoch 5/20\n",
            "1500/1500 [==============================] - 50s 33ms/step - loss: 0.2221 - accuracy: 0.9202 - val_loss: 0.2561 - val_accuracy: 0.9082\n",
            "Epoch 6/20\n",
            "1500/1500 [==============================] - 44s 30ms/step - loss: 0.1997 - accuracy: 0.9299 - val_loss: 0.2505 - val_accuracy: 0.9146\n",
            "Epoch 7/20\n",
            "1500/1500 [==============================] - 46s 31ms/step - loss: 0.1816 - accuracy: 0.9344 - val_loss: 0.2673 - val_accuracy: 0.9093\n",
            "Epoch 8/20\n",
            "1500/1500 [==============================] - 46s 31ms/step - loss: 0.1620 - accuracy: 0.9415 - val_loss: 0.2857 - val_accuracy: 0.9119\n"
          ]
        }
      ]
    },
    {
      "cell_type": "code",
      "source": [
        "# 훈련 과정의 손실값과 검증 과정의 손실값을 그래프로 시각화합니다.\n",
        "plt.plot(history.history['loss'])\n",
        "plt.plot(history.history['val_loss'])\n",
        "plt.xlabel('epoch')\n",
        "plt.ylabel('loss')\n",
        "plt.legend(['train', 'val'])\n",
        "plt.show()\n"
      ],
      "metadata": {
        "colab": {
          "base_uri": "https://localhost:8080/",
          "height": 449
        },
        "id": "vzzfNhnLOuDo",
        "outputId": "07a8a9f1-ac7a-4119-c995-f530535bf3fc"
      },
      "execution_count": 39,
      "outputs": [
        {
          "output_type": "display_data",
          "data": {
            "text/plain": [
              "<Figure size 640x480 with 1 Axes>"
            ],
            "image/png": "[encoded data removed]"
          },
          "metadata": {}
        }
      ]
    },
    {
      "cell_type": "code",
      "source": [
        "# 검증 세트에서 모델을 평가합니다.\n",
        "val_loss, val_accuracy = model.evaluate(val_scaled, val_target)"
      ],
      "metadata": {
        "colab": {
          "base_uri": "https://localhost:8080/"
        },
        "id": "1_x-geDBO1h0",
        "outputId": "949c27ff-fc2e-46c7-d3c5-d5b08d9a5ee7"
      },
      "execution_count": 40,
      "outputs": [
        {
          "output_type": "stream",
          "name": "stdout",
          "text": [
            "375/375 [==============================] - 3s 8ms/step - loss: 0.2505 - accuracy: 0.9146\n"
          ]
        }
      ]
    },
    {
      "cell_type": "code",
      "source": [
        "# 검증 세트에서 스니커즈 이미지를 찾아서 출력합니다.\n",
        "sneaker_idx = np.where(val_target == 7)[0][0]  # 스니커즈 클래스 번호는 7\n",
        "plt.imshow(val_scaled[sneaker_idx].reshape(28, 28), cmap='gray_r')\n",
        "plt.title(f'Class: Sneaker, Index: {sneaker_idx}')\n",
        "plt.show()"
      ],
      "metadata": {
        "colab": {
          "base_uri": "https://localhost:8080/",
          "height": 452
        },
        "id": "Fh-cQ-95O56p",
        "outputId": "f22ea13d-dd7f-4dc5-9938-8be5f4f38304"
      },
      "execution_count": 41,
      "outputs": [
        {
          "output_type": "display_data",
          "data": {
            "text/plain": [
              "<Figure size 640x480 with 1 Axes>"
            ],
            "image/png": "[encoded data removed]"
          },
          "metadata": {}
        }
      ]
    },
    {
      "cell_type": "code",
      "source": [
        "# 스니커즈 클래스 번호와 이름 출력\n",
        "sneaker_class_number = 7  # Fashion MNIST에서 스니커즈 클래스 번호는 7입니다.\n",
        "print(f'Sneaker class number: {sneaker_class_number}')  # 스니커즈의 클래스 번호 출력\n",
        "print(\"스니커즈\")  # \"스니커즈\"라고 출력\n"
      ],
      "metadata": {
        "colab": {
          "base_uri": "https://localhost:8080/"
        },
        "id": "l7i6AjLIO59W",
        "outputId": "ec7cdd26-4972-4ebd-a05b-b6d0422c9f8c"
      },
      "execution_count": 42,
      "outputs": [
        {
          "output_type": "stream",
          "name": "stdout",
          "text": [
            "Sneaker class number: 7\n",
            "스니커즈\n"
          ]
        }
      ]
    },
    {
      "cell_type": "code",
      "source": [
        "test_loss, test_accuracy = model.evaluate(test_scaled, test_target)\n",
        "print(f'Test accuracy: {test_accuracy}')"
      ],
      "metadata": {
        "id": "2W89Sg0kO-dZ",
        "colab": {
          "base_uri": "https://localhost:8080/"
        },
        "outputId": "82dc5b79-1d09-4c2b-f38e-3f33e946f04c"
      },
      "execution_count": 43,
      "outputs": [
        {
          "output_type": "stream",
          "name": "stdout",
          "text": [
            "313/313 [==============================] - 7s 20ms/step - loss: 0.2668 - accuracy: 0.9089\n",
            "Test accuracy: 0.9089000225067139\n"
          ]
        }
      ]
    }
  ]
}